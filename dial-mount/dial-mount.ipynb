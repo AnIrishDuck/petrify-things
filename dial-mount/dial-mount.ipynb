{
 "cells": [
  {
   "cell_type": "code",
   "execution_count": 1,
   "metadata": {},
   "outputs": [],
   "source": [
    "from petrify import u, tau\n",
    "from petrify.formats import STL"
   ]
  },
  {
   "cell_type": "markdown",
   "metadata": {},
   "source": [
    "This is the original:"
   ]
  },
  {
   "cell_type": "code",
   "execution_count": 2,
   "metadata": {},
   "outputs": [
    {
     "data": {
      "application/vnd.jupyter.widget-view+json": {
       "model_id": "d491430f77c44c9b8f181cb34f70a945",
       "version_major": 2,
       "version_minor": 0
      },
      "text/plain": [
       "Renderer(camera=PerspectiveCamera(children=(DirectionalLight(color='white', intensity=0.5, position=(3.0, 5.0,…"
      ]
     },
     "metadata": {},
     "output_type": "display_data"
    }
   ],
   "source": [
    "original = STL.read('original-dial-mount.stl', 'mm').m_as('mm')\n",
    "original.render()"
   ]
  },
  {
   "cell_type": "markdown",
   "metadata": {},
   "source": [
    "The mounting screws are in the right place for the carriage, but the screws for the dial indicator are not remotely compatible with my model.\n",
    "\n",
    "This is easily fixed though. Other parts that work with my dial indicator just hold the center bore:\n",
    "\n",
    "<img src=\"./other-holder.jpg\" width=600px />\n",
    "\n",
    "So, I cut away the top part of the mount to give some clearance for the indicator:"
   ]
  },
  {
   "cell_type": "code",
   "execution_count": 3,
   "metadata": {},
   "outputs": [
    {
     "data": {
      "application/vnd.jupyter.widget-view+json": {
       "model_id": "cd82cbe9f5ee4be4ac1fc7eca219fee9",
       "version_major": 2,
       "version_minor": 0
      },
      "text/plain": [
       "Renderer(camera=PerspectiveCamera(children=(DirectionalLight(color='white', intensity=0.5, position=(3.0, 5.0,…"
      ]
     },
     "metadata": {},
     "output_type": "display_data"
    }
   ],
   "source": [
    "from petrify.solid import Point, Vector, Collection, Box, Cylinder\n",
    "\n",
    "cut = Box(Point(-30, -20, 10), Vector(20, 20, 50))\n",
    "\n",
    "Collection([original, cut.view(color='#f00')]).render()"
   ]
  },
  {
   "cell_type": "code",
   "execution_count": 4,
   "metadata": {},
   "outputs": [
    {
     "data": {
      "application/vnd.jupyter.widget-view+json": {
       "model_id": "70bf3bb4ad1c49e99a7bf23fc4399cf6",
       "version_major": 2,
       "version_minor": 0
      },
      "text/plain": [
       "Renderer(camera=PerspectiveCamera(children=(DirectionalLight(color='white', intensity=0.5, position=(3.0, 5.0,…"
      ]
     },
     "metadata": {},
     "output_type": "display_data"
    }
   ],
   "source": [
    "ready_for_bore = (original - cut)\n",
    "ready_for_bore.render()"
   ]
  },
  {
   "cell_type": "markdown",
   "metadata": {},
   "source": [
    "I measured the above holder. It's clearly tapered, with a top diameter of 8.4mm and a bottom diameter of 7.9mm. So I created a tapered cylinder using the [`Spun`](https://petrify.readthedocs.io/en/latest/petrify.solid.html#petrify.solid.Spun) solid:"
   ]
  },
  {
   "cell_type": "code",
   "execution_count": 5,
   "metadata": {},
   "outputs": [
    {
     "data": {
      "application/vnd.jupyter.widget-view+json": {
       "model_id": "bff58bf336b34c83ab179a4338d75e8e",
       "version_major": 2,
       "version_minor": 0
      },
      "text/plain": [
       "Renderer(camera=PerspectiveCamera(children=(DirectionalLight(color='white', intensity=0.5, position=(3.0, 5.0,…"
      ]
     },
     "metadata": {},
     "output_type": "display_data"
    }
   ],
   "source": [
    "from petrify import plane\n",
    "from petrify.solid import Spun\n",
    "\n",
    "origin = Point(-20, -8, 0)\n",
    "\n",
    "br = 7.9 / 2\n",
    "tr = 8.4 / 2\n",
    "height = 15\n",
    "axis = Vector.basis.z\n",
    "start = Vector.basis.y\n",
    "taper = plane.Polygon([\n",
    "    plane.Point(0, 0), \n",
    "    plane.Point(br, 0),\n",
    "    plane.Point(tr, height),\n",
    "    plane.Point(0, height)\n",
    "])\n",
    "bore = Spun(axis, start, [taper] * 30) + origin\n",
    "\n",
    "Collection([ready_for_bore, bore.view(color='#f00')]).render()"
   ]
  },
  {
   "cell_type": "markdown",
   "metadata": {},
   "source": [
    "This clearly won't work though, the extension arm isn't wide enough. So I added an additional support cylinder to wrap around the bore:"
   ]
  },
  {
   "cell_type": "code",
   "execution_count": 6,
   "metadata": {},
   "outputs": [
    {
     "data": {
      "application/vnd.jupyter.widget-view+json": {
       "model_id": "7a4cfc9011d6431c8d7e2c6734f3c92a",
       "version_major": 2,
       "version_minor": 0
      },
      "text/plain": [
       "Renderer(camera=PerspectiveCamera(children=(DirectionalLight(color='white', intensity=0.5, position=(3.0, 5.0,…"
      ]
     },
     "metadata": {},
     "output_type": "display_data"
    }
   ],
   "source": [
    "support = Cylinder(origin, Vector.basis.z * height, 12/2, segments=30)\n",
    "bored = (ready_for_bore + support) - bore\n",
    "bored.render()"
   ]
  },
  {
   "cell_type": "markdown",
   "metadata": {},
   "source": [
    "Finally, the original holder had a small channel removed from the holder to allow the plastic to flex if a tighter fit is desired. So I positioned that:"
   ]
  },
  {
   "cell_type": "code",
   "execution_count": 7,
   "metadata": {},
   "outputs": [
    {
     "data": {
      "application/vnd.jupyter.widget-view+json": {
       "model_id": "03d7f1454e1d43f38c5ee1949957d969",
       "version_major": 2,
       "version_minor": 0
      },
      "text/plain": [
       "Renderer(camera=PerspectiveCamera(children=(DirectionalLight(color='white', intensity=0.5, position=(3.0, 5.0,…"
      ]
     },
     "metadata": {},
     "output_type": "display_data"
    }
   ],
   "source": [
    "channel = Box(origin - Vector(1, 0, 0), Vector(2, 10, 20)).rotate_at(origin, Vector.basis.z, tau / 2)\n",
    "Collection([bored, channel.view(color='#f00')]).render()"
   ]
  },
  {
   "cell_type": "markdown",
   "metadata": {},
   "source": [
    "And then cut it away:"
   ]
  },
  {
   "cell_type": "code",
   "execution_count": 8,
   "metadata": {},
   "outputs": [
    {
     "data": {
      "application/vnd.jupyter.widget-view+json": {
       "model_id": "dc49d59f4b4d4a54b93d95853c617fac",
       "version_major": 2,
       "version_minor": 0
      },
      "text/plain": [
       "Renderer(camera=PerspectiveCamera(children=(DirectionalLight(color='white', intensity=0.5, position=(3.0, 5.0,…"
      ]
     },
     "metadata": {},
     "output_type": "display_data"
    }
   ],
   "source": [
    "final = bored - channel\n",
    "final.render()"
   ]
  },
  {
   "cell_type": "markdown",
   "metadata": {},
   "source": [
    "Now, it's ready for export, slicing, and printing:"
   ]
  },
  {
   "cell_type": "code",
   "execution_count": 9,
   "metadata": {},
   "outputs": [],
   "source": [
    "STL('../output/mount.stl', u.mm).write(final.as_unit(u.mm))"
   ]
  },
  {
   "cell_type": "code",
   "execution_count": null,
   "metadata": {},
   "outputs": [],
   "source": []
  }
 ],
 "metadata": {
  "kernelspec": {
   "display_name": "Python 3",
   "language": "python",
   "name": "python3"
  },
  "language_info": {
   "codemirror_mode": {
    "name": "ipython",
    "version": 3
   },
   "file_extension": ".py",
   "mimetype": "text/x-python",
   "name": "python",
   "nbconvert_exporter": "python",
   "pygments_lexer": "ipython3",
   "version": "3.7.3"
  }
 },
 "nbformat": 4,
 "nbformat_minor": 2
}
